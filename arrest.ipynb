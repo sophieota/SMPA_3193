{
 "cells": [
  {
   "cell_type": "code",
   "execution_count": 60,
   "metadata": {
    "collapsed": false,
    "deletable": true,
    "editable": true
   },
   "outputs": [
    {
     "ename": "IndentationError",
     "evalue": "expected an indented block (<ipython-input-60-a86e2934648e>, line 18)",
     "output_type": "error",
     "traceback": [
      "\u001b[0;36m  File \u001b[0;32m\"<ipython-input-60-a86e2934648e>\"\u001b[0;36m, line \u001b[0;32m18\u001b[0m\n\u001b[0;31m    if line.split(',')[1].rstrip() == \"Alexandria\":\u001b[0m\n\u001b[0m     ^\u001b[0m\n\u001b[0;31mIndentationError\u001b[0m\u001b[0;31m:\u001b[0m expected an indented block\n"
     ]
    }
   ],
   "source": [
    "import agate\n",
    "results = agate.Table.from_csv(\"arrest.csv\")\n",
    "print(results)\n",
    "row = results.rows[0]\n",
    "row['Charge Descrip']\n",
    "by_charge = results.group_by('Charge Descrip')\n",
    "print by_charge\n",
    "by_age = results.group_by('Age')\n",
    "age_totals = age_totals.order_by('Age', reverse=True)\n",
    "print age_totals\n",
    "by_charge = results.group_by('Charge Descrip')\n",
    "totals = by_charge.aggregate([('Age', agate.Median('Age'))])\n",
    "totals = totals.order_by('Age', reverse=True)\n",
    "totals.limit(10).print_bars('Charge Descrip', 'Age', width=80)\n",
    "import re\n",
    "new_table = results.where(lambda row: re.match('%Alexandria%', row['']))\n",
    "\n",
    "        \n",
    "\n",
    "\n",
    "\n",
    "\n",
    "\n",
    "\n",
    "\n",
    "\n",
    "\n",
    "\n",
    "\n",
    "\n",
    "\n",
    "\n",
    "\n",
    "\n",
    "\n",
    "\n",
    "\n",
    "\n"
   ]
  },
  {
   "cell_type": "code",
   "execution_count": null,
   "metadata": {
    "collapsed": true,
    "deletable": true,
    "editable": true
   },
   "outputs": [],
   "source": []
  }
 ],
 "metadata": {
  "kernelspec": {
   "display_name": "Python 2",
   "language": "python",
   "name": "python2"
  },
  "language_info": {
   "codemirror_mode": {
    "name": "ipython",
    "version": 2
   },
   "file_extension": ".py",
   "mimetype": "text/x-python",
   "name": "python",
   "nbconvert_exporter": "python",
   "pygments_lexer": "ipython2",
   "version": "2.7.6"
  }
 },
 "nbformat": 4,
 "nbformat_minor": 2
}
